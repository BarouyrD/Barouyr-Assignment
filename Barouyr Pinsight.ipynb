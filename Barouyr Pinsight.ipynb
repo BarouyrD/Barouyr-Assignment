{
 "cells": [
  {
   "cell_type": "code",
   "execution_count": 310,
   "metadata": {
    "id": "HWbKNkAYeowb"
   },
   "outputs": [],
   "source": [
    "import pandas as pd\n",
    "import numpy as np\n",
    "import datetime\n",
    "from statsmodels.tsa.stattools import adfuller\n",
    "import matplotlib.pyplot as plt\n",
    "from statsmodels.formula.api import ols #for linear regression\n",
    "import seaborn as sns #for heatmap\n",
    "import statsmodels.api as sm\n",
    "from scipy import stats\n",
    "from sklearn.metrics import r2_score #R-squared\n",
    "from sklearn.model_selection import train_test_split #for train and test split\n",
    "from statsmodels.api import qqplot \n",
    "from scipy.stats import shapiro,ttest_ind\n",
    "from statsmodels.stats.diagnostic import het_breuschpagan,linear_rainbow  \n",
    "from sklearn import linear_model\n",
    "from statsmodels.stats.outliers_influence import variance_inflation_factor\n",
    "import statsmodels.api as sm\n",
    "import statsmodels.tools.tools as smt\n",
    "import statsmodels.stats.outliers_influence as smo"
   ]
  },
  {
   "cell_type": "markdown",
   "metadata": {},
   "source": [
    "# 1st Question\n",
    "Firstly, I would look at the log likelihood number which shows the likelihood that the data is fitted in the model. The higher the number, the probability of the model having more accurate results is high.\n",
    "\n",
    "Secondly, I would do an AIC or BIC test, which shows the prediction error, and the lower the value, the better the model\n",
    "\n",
    "Thirdly, I can visually and through python, do a backtesting check and see the performance of each model\n",
    "\n",
    "Lastly, I would check the R^2 and the adjusted R^2\n",
    "\n",
    "These are all statistical analysis though. Further analysis must be conducted visually and manually such as looking into to the data, understanding its pros and cons, the advantages and disadvantages of our models, and see which one of them would work best. It also depends on the situation and the circumstances. Hence, we need to clearly understand the data, clearly understand the mechanics behind our models, and only after that conclude which model would work best.\n",
    "\n",
    "I would create different statistical analysis models and do tests on them. Based on the tests that needs to be done on each type of model (for example for OLS we need to check normality), and based on what is mentioned above. I would compare all of my models and choose which one I would think is best"
   ]
  },
  {
   "cell_type": "code",
   "execution_count": 311,
   "metadata": {
    "colab": {
     "base_uri": "https://localhost:8080/"
    },
    "id": "Rt7GFHuAesBo",
    "outputId": "f53b11a1-a53d-43b1-acfa-26761674b8cc",
    "scrolled": true
   },
   "outputs": [
    {
     "name": "stdout",
     "output_type": "stream",
     "text": [
      "                Volume\n",
      "date                  \n",
      "2013-01  420800.266143\n",
      "2013-02  458964.024450\n",
      "2013-03  523473.886725\n",
      "2013-04  548346.898425\n",
      "2013-05  595946.388375\n",
      "2013-06  536045.054100\n",
      "2013-07  518362.092975\n",
      "2013-08  523649.223450\n",
      "2013-09  459425.011575\n",
      "2013-10  499158.987715\n",
      "2013-11  457547.261180\n",
      "2013-12  591422.108985\n",
      "2014-01  425281.348833\n",
      "2014-02  491167.560532\n",
      "2014-03  550482.295050\n",
      "2014-04  623885.820375\n",
      "2014-05  532731.601200\n",
      "2014-06  520163.890200\n",
      "2014-07  507000.543000\n",
      "2014-08  528069.096750\n",
      "2014-09  489186.618900\n",
      "2014-10  491608.431300\n",
      "2014-11  449440.527900\n",
      "2014-12  587976.765150\n",
      "2015-01  420653.713500\n",
      "2015-02  434735.389350\n",
      "2015-03  581874.998550\n",
      "2015-04  578905.651350\n",
      "2015-05  568011.101550\n",
      "2015-06  525318.489450\n",
      "2015-07  548704.289850\n",
      "2015-08  537363.111150\n",
      "2015-09  517183.152450\n",
      "2015-10  484754.610000\n",
      "2015-11  468572.242200\n",
      "2015-12  607256.953350\n",
      "2016-01  399220.311450\n",
      "2016-02  450277.447050\n",
      "2016-03  551677.911000\n",
      "2016-04  567703.623750\n",
      "2016-05  596570.375400\n",
      "2016-06  560715.672975\n",
      "2016-07  541328.474850\n",
      "2016-08  550035.934800\n",
      "2016-09  541158.323775\n",
      "2016-10  494352.765000\n",
      "2016-11  500005.357200\n",
      "2016-12  586112.035500\n",
      "2017-01  406270.838850\n",
      "2017-02  465414.133950\n",
      "2017-03  530448.872775\n",
      "2017-04  549023.179275\n",
      "2017-05  576496.968225\n",
      "2017-06  583330.681425\n",
      "2017-07  576566.442675\n",
      "2017-08  599553.665250\n",
      "2017-09  556966.701300\n",
      "2017-10  542554.007475\n",
      "2017-11  457914.412950\n",
      "2017-12  553316.088000\n"
     ]
    }
   ],
   "source": [
    "dataset = pd.read_csv(\"C:/Users/Dell Inspiron14 7000/OneDrive/Desktop/py-test-1/train_OwBvO8W/historical_volume.csv\")\n",
    "dataset = dataset.astype({'YearMonth':'string'})\n",
    "dataset['date'] = dataset['YearMonth'].str.slice(0, 4)+'-'+dataset['YearMonth'].str.slice(4, 6)\n",
    "dataset = dataset.drop('YearMonth',axis=1)\n",
    "dataset = dataset.drop('Agency',axis=1)\n",
    "dataset = dataset.drop('SKU',axis=1)\n",
    "dataset = dataset.groupby('date')['Volume'].sum().reset_index()\n",
    "dataset.set_index(\"date\", inplace = True)\n",
    "dataset.index = pd.DatetimeIndex(dataset.index).to_period('M')\n",
    "print(dataset)"
   ]
  },
  {
   "cell_type": "markdown",
   "metadata": {},
   "source": [
    "Here, we have aggregated the products and the companies' volume to forecast the demand"
   ]
  },
  {
   "cell_type": "markdown",
   "metadata": {},
   "source": [
    "# Second Question\n",
    "The most common used non ML model is the ARIMA family, including AR, MA, ARIMA, SARIMA, etc (although SARIMA could be also cosidered as an ML model), and here we would use the SARIMA model which controls for seasonality. The S part means seasonality, in which we set the parameters so the model would understand the frequency of the data. The AR part, which translates to autoregresive, and is the lags of the dependent variable. Lastly, the MA part which means moving average, which gives us the means of the past errors. Because it is a regression, and regressions should be linear, that's why the most prominent disadvantage is that it can only capture linear relationships. As for the advantages, it can control seasonality, it can control for past errors, and most importantly ,it is very interpertable.\n",
    "\n",
    "We can also use the holt winters' seasnality filter, which we can run on our data set after the itterations the filter reports three parameteres, exponential smoothing parameter, the trend parameter, and the seasonality parameter. With those parameters, we can forecast as many periods as we want. The disadvantage is that it is not interpertable, and the advantage is that it is very fast, it can work on few observations unlike other types of regressions, and its easily manipulated.\n",
    "\n",
    "We can do lasso, which looks at set of independent variables, and chooses the ones that are more correlated with the dependent variable (out of zero variable). Lasso reports AIC, BIC, and out of sampled R^2 from which we can choose any of the criteria and get the set of variables to do the forecasting. The disadvantage is that it does not group the variables into eachother and instead has more of a sequential way of choosing. As for the advantages, it can work on linear, non linear, logistics, and generally broader types of data.\n",
    "\n",
    "We can do the garch model. However, they generally use this for financial econometrics. The reason for that is because the Garch model is used when the volatility of the variance is high. Generally, that is the case for, for example, the stock market.\n",
    "\n",
    "As for ML/DL model, we can do Q deep learning, recurrent neural networks, and monte carlo simulation.\n",
    "\n",
    "For Neural networks for example, the advantages is that it understands and learns both linear and non-linear relationships, it can support learning even in the presence of missing values and more. However, it is very hard, to almost impossible to interpret the findings (depending on our data and its complexities), and it is difficult to manipulate it if needed.\n",
    "\n",
    "It should also be mentioned that VAR family is also very famous and generally used. However, for this model, it would not be necessary since the method is suitable for multivariate time series without trend and seasonal components.\n",
    "\n",
    "Lastly, some of the other tests that I generally use for which I am ignoring for this assignment (because I think SARIMA would work best for this assignment) include decision trees, random forrest, XGBoost. The reason why I am ignoring them is because I believe if ARIMA could be used, it is best to stick to it since we can interpret it and fully understand everything."
   ]
  },
  {
   "cell_type": "markdown",
   "metadata": {},
   "source": [
    "#### We will work with the SARIMA model, since this model suits best and its widely acknolwedged."
   ]
  },
  {
   "cell_type": "markdown",
   "metadata": {},
   "source": [
    "### Feature Engineering\n",
    "For feature engineering, we will first run a dicky fuller test we would show if the data is stationary or not. If it is not stationary, then we should take at least the first difference in order to have more accurate regression results.\n",
    "\n",
    "Furthermore, for the dicky fuller test, we should find the optimal lag order.\n",
    "\n",
    "We can detrend the data set so the model becomes more stationary. However, for our model, it might not be necessary because the trend here might help to forecast the demand even better.\n",
    "\n",
    "Moreover, there are many macroeconomic variables that could help to forecast such as unemployment rate, consumer confidence index, inflation, etc which we would need to download the data and add it to our current data. However, we are not doing so because we do not know in which country this data is from and sadly, as much I would have loved so, Beeristan does not exist.\n",
    "\n",
    "We will only check for stationarity, and if we see that our variable is not stationary, then we would take out the first difference. The reason why we do not do further feature engineering, is because we have a lienar data set and further engineering may result in an unnecessary manipulation of data where the data could lose its meaning."
   ]
  },
  {
   "cell_type": "code",
   "execution_count": 270,
   "metadata": {},
   "outputs": [
    {
     "data": {
      "text/plain": [
       "(-1.053590790496304,\n",
       " 0.7332203127388518,\n",
       " 11,\n",
       " 48,\n",
       " {'1%': -3.5745892596209488,\n",
       "  '5%': -2.9239543084490744,\n",
       "  '10%': -2.6000391840277777},\n",
       " 1135.3764521514158)"
      ]
     },
     "execution_count": 270,
     "metadata": {},
     "output_type": "execute_result"
    }
   ],
   "source": [
    "#perform augmented Dickey-Fuller test\n",
    "adfuller(dataset)"
   ]
  },
  {
   "cell_type": "markdown",
   "metadata": {},
   "source": [
    "here we see that our data is not stationary, because the t-stat is higher than our critical values. Moreover, over P-value is 0.73 meaning that it is not stationary. Hence, we fail to reject the null hypothesis that our data is not stationary."
   ]
  },
  {
   "cell_type": "code",
   "execution_count": 271,
   "metadata": {},
   "outputs": [
    {
     "data": {
      "text/plain": [
       "(-13.528210630254707,\n",
       " 2.6529304782660554e-25,\n",
       " 10,\n",
       " 48,\n",
       " {'1%': -3.5745892596209488,\n",
       "  '5%': -2.9239543084490744,\n",
       "  '10%': -2.6000391840277777},\n",
       " 1112.6981921011209)"
      ]
     },
     "execution_count": 271,
     "metadata": {},
     "output_type": "execute_result"
    }
   ],
   "source": [
    "diff = dataset.diff()\n",
    "diff.dropna(subset = [\"Volume\"], inplace=True)\n",
    "diff\n",
    "adfuller(diff)"
   ]
  },
  {
   "cell_type": "markdown",
   "metadata": {},
   "source": [
    "As we can see, after taking the first differene, our T-statistics turned to -13, which is lower than all of our critical values, which means our data set is now finally stationary and now we can move on and use it for our SARIMA moddel"
   ]
  },
  {
   "cell_type": "code",
   "execution_count": 272,
   "metadata": {
    "colab": {
     "base_uri": "https://localhost:8080/"
    },
    "id": "2My6Yu9ofQZq",
    "outputId": "5400aaa4-f38f-4547-db88-8788ae7ac498"
   },
   "outputs": [
    {
     "name": "stdout",
     "output_type": "stream",
     "text": [
      "<statsmodels.tsa.statespace.sarimax.SARIMAXResultsWrapper object at 0x000001E954469E80>\n"
     ]
    }
   ],
   "source": [
    "from statsmodels.tsa.statespace.sarimax import SARIMAX\n",
    "from random import random\n",
    "\n",
    "# define model configuration\n",
    "my_order = (1, 1, 1)\n",
    "my_seasonal_order = (1, 0, 1, 12)\n",
    "# define model\n",
    "model = SARIMAX(dataset['Volume'] ,order=my_order,seasonal_order=my_seasonal_order)\n",
    "results=model.fit()\n",
    "print(results)"
   ]
  },
  {
   "cell_type": "code",
   "execution_count": 273,
   "metadata": {
    "colab": {
     "base_uri": "https://localhost:8080/",
     "height": 1000
    },
    "id": "SqboYL2OqmR0",
    "outputId": "4dc1de5f-ac88-4de0-9369-36834935bd84"
   },
   "outputs": [
    {
     "name": "stdout",
     "output_type": "stream",
     "text": [
      "                Volume       forecast\n",
      "date                                 \n",
      "2013-01  420800.266143       0.000000\n",
      "2013-02  458964.024450  320988.008678\n",
      "2013-03  523473.886725  441219.671495\n",
      "2013-04  548346.898425  506344.093302\n",
      "2013-05  595946.388375  540865.025477\n",
      "2013-06  536045.054100  583784.909393\n",
      "2013-07  518362.092975  549512.109047\n",
      "2013-08  523649.223450  523773.079501\n",
      "2013-09  459425.011575  522945.782003\n",
      "2013-10  499158.987715  474178.578281\n",
      "2013-11  457547.261180  495479.842585\n",
      "2013-12  591422.108985  437422.516880\n",
      "2014-01  425281.348833  681074.978341\n",
      "2014-02  491167.560532  504051.401936\n",
      "2014-03  550482.295050  502930.529861\n",
      "2014-04  623885.820375  547547.613797\n",
      "2014-05  532731.601200  621204.929773\n",
      "2014-06  520163.890200  538951.823536\n",
      "2014-07  507000.543000  515672.025882\n",
      "2014-08  528069.096750  510552.763088\n",
      "2014-09  489186.618900  504391.056741\n",
      "2014-10  491608.431300  505405.630950\n",
      "2014-11  449440.527900  481929.453063\n",
      "2014-12  587976.765150  496355.955660\n",
      "2015-01  420653.713500  516823.690472\n",
      "2015-02  434735.389350  467286.638959\n",
      "2015-03  581874.998550  456224.513418\n",
      "2015-04  578905.651350  572757.637506\n",
      "2015-05  568011.101550  555394.255932\n",
      "2015-06  525318.489450  560484.146847\n",
      "2015-07  548704.289850  530423.605556\n",
      "2015-08  537363.111150  549127.387039\n",
      "2015-09  517183.152450  529359.136907\n",
      "2015-10  484754.610000  520400.895637\n",
      "2015-11  468572.242200  480351.739247\n",
      "2015-12  607256.953350  511717.228375\n",
      "2016-01  399220.311450  533652.113892\n",
      "2016-02  450277.447050  439844.803305\n",
      "2016-03  551677.911000  485956.115642\n",
      "2016-04  567703.623750  536435.303142\n",
      "2016-05  596570.375400  558871.583598\n",
      "2016-06  560715.672975  575553.739692\n",
      "2016-07  541328.474850  572502.069920\n",
      "2016-08  550035.934800  544817.064073\n",
      "2016-09  541158.323775  541579.177916\n",
      "2016-10  494352.765000  532011.106984\n",
      "2016-11  500005.357200  498441.537506\n",
      "2016-12  586112.035500  539866.770806\n",
      "2017-01  406270.838850  512854.203158\n",
      "2017-02  465414.133950  448990.328382\n",
      "2017-03  530448.872775  487743.835066\n",
      "2017-04  549023.179275  526159.524789\n",
      "2017-05  576496.968225  553430.128942\n",
      "2017-06  583330.681425  560764.942814\n",
      "2017-07  576566.442675  572971.170245\n",
      "2017-08  599553.665250  578976.076592\n",
      "2017-09  556966.701300  591885.091824\n",
      "2017-10  542554.007475  552191.338665\n",
      "2017-11  457914.412950  545057.622215\n",
      "2017-12  553316.088000  504926.248294\n"
     ]
    },
    {
     "data": {
      "image/png": "[encoded data removed]",
      "text/plain": [
       "<Figure size 864x576 with 1 Axes>"
      ]
     },
     "metadata": {
      "needs_background": "light"
     },
     "output_type": "display_data"
    }
   ],
   "source": [
    "#Testing the fitted model.\n",
    "dataset['forecast']=results.predict(start=dataset.index[0],end=dataset.index[-1]) \n",
    "dataset[['Volume','forecast']].plot(figsize=(12,8))\n",
    "print(dataset)"
   ]
  },
  {
   "cell_type": "code",
   "execution_count": 274,
   "metadata": {
    "colab": {
     "base_uri": "https://localhost:8080/",
     "height": 769
    },
    "id": "gJX9FlYzESFo",
    "outputId": "914d704e-5fd2-4b65-c7c0-f0fd8ad2e2ff"
   },
   "outputs": [
    {
     "name": "stdout",
     "output_type": "stream",
     "text": [
      "2018-01\n",
      "                Volume       forecast\n",
      "2013-01  420800.266143            NaN\n",
      "2013-02   458964.02445            NaN\n",
      "2013-03  523473.886725            NaN\n",
      "2013-04  548346.898425            NaN\n",
      "2013-05  595946.388375            NaN\n",
      "...                ...            ...\n",
      "2017-11   457914.41295            NaN\n",
      "2017-12     553316.088            NaN\n",
      "2018-01            NaN  484193.524812\n",
      "2018-02            NaN  504281.090220\n",
      "2018-03            NaN  523580.677192\n",
      "\n",
      "[63 rows x 2 columns]\n"
     ]
    },
    {
     "data": {
      "text/plain": [
       "<AxesSubplot:>"
      ]
     },
     "execution_count": 274,
     "metadata": {},
     "output_type": "execute_result"
    },
    {
     "data": {
      "image/png": "[encoded data removed]",
      "text/plain": [
       "<Figure size 864x576 with 1 Axes>"
      ]
     },
     "metadata": {
      "needs_background": "light"
     },
     "output_type": "display_data"
    }
   ],
   "source": [
    "#Testing the fitted model.\n",
    "from pandas.tseries.offsets import DateOffset\n",
    "\n",
    "pred_date=[datetime.datetime.strptime(dataset.index[-1].strftime('%Y-%m'),\"%Y-%m\") + DateOffset(months=x)for x in range(1,4)]\n",
    "print(pred_date[0].to_period(freq='M'))\n",
    "\n",
    "for i in range(len(pred_date)):\n",
    "    pred_date[i] = pred_date[i].to_period(freq='M')\n",
    "\n",
    "\n",
    "pred_date = pd.DataFrame(index=pred_date[0:],columns=dataset.columns)\n",
    "data=pd.concat([dataset,pred_date], axis=0)\n",
    "data['forecast']=results.predict(start=60,end= 63) \n",
    "print(data)\n",
    "data[['Volume','forecast']].plot(figsize=(12,8))\n"
   ]
  },
  {
   "cell_type": "markdown",
   "metadata": {},
   "source": [
    "### Interpretation\n",
    "When we compare our forecasted values that we got through our SARIMA model, with last years', we can see that the year to year change increased, where we predict our volume of sales to be higher.\n",
    "\n",
    "When we compare the volume of sales of the predicted 3 months with the previous quarter, we see that the volume of sales is dropping. However, while analyzing the graph, we can construe that the decrease of sales in the first 3 months of each year is very cyclical and happens every year. Hence, it should not be a bad sign."
   ]
  },
  {
   "cell_type": "code",
   "execution_count": 275,
   "metadata": {},
   "outputs": [
    {
     "name": "stdout",
     "output_type": "stream",
     "text": [
      "<class 'pandas.core.frame.DataFrame'>\n",
      "PeriodIndex: 60 entries, 2013-01 to 2017-12\n",
      "Freq: M\n",
      "Data columns (total 2 columns):\n",
      " #   Column    Non-Null Count  Dtype  \n",
      "---  ------    --------------  -----  \n",
      " 0   Volume    60 non-null     float64\n",
      " 1   forecast  60 non-null     float64\n",
      "dtypes: float64(2)\n",
      "memory usage: 3.5 KB\n"
     ]
    }
   ],
   "source": [
    "dataset.info()"
   ]
  },
  {
   "cell_type": "code",
   "execution_count": 276,
   "metadata": {},
   "outputs": [
    {
     "data": {
      "text/html": [
       "<div>\n",
       "<style scoped>\n",
       "    .dataframe tbody tr th:only-of-type {\n",
       "        vertical-align: middle;\n",
       "    }\n",
       "\n",
       "    .dataframe tbody tr th {\n",
       "        vertical-align: top;\n",
       "    }\n",
       "\n",
       "    .dataframe thead th {\n",
       "        text-align: right;\n",
       "    }\n",
       "</style>\n",
       "<table border=\"1\" class=\"dataframe\">\n",
       "  <thead>\n",
       "    <tr style=\"text-align: right;\">\n",
       "      <th></th>\n",
       "      <th>Volume</th>\n",
       "      <th>forecast</th>\n",
       "    </tr>\n",
       "    <tr>\n",
       "      <th>date</th>\n",
       "      <th></th>\n",
       "      <th></th>\n",
       "    </tr>\n",
       "  </thead>\n",
       "  <tbody>\n",
       "    <tr>\n",
       "      <th>2013-01</th>\n",
       "      <td>420800.266143</td>\n",
       "      <td>0.000000</td>\n",
       "    </tr>\n",
       "    <tr>\n",
       "      <th>2013-02</th>\n",
       "      <td>458964.024450</td>\n",
       "      <td>320988.008678</td>\n",
       "    </tr>\n",
       "    <tr>\n",
       "      <th>2013-03</th>\n",
       "      <td>523473.886725</td>\n",
       "      <td>441219.671495</td>\n",
       "    </tr>\n",
       "    <tr>\n",
       "      <th>2013-04</th>\n",
       "      <td>548346.898425</td>\n",
       "      <td>506344.093302</td>\n",
       "    </tr>\n",
       "    <tr>\n",
       "      <th>2013-05</th>\n",
       "      <td>595946.388375</td>\n",
       "      <td>540865.025477</td>\n",
       "    </tr>\n",
       "    <tr>\n",
       "      <th>2013-06</th>\n",
       "      <td>536045.054100</td>\n",
       "      <td>583784.909393</td>\n",
       "    </tr>\n",
       "    <tr>\n",
       "      <th>2013-07</th>\n",
       "      <td>518362.092975</td>\n",
       "      <td>549512.109047</td>\n",
       "    </tr>\n",
       "    <tr>\n",
       "      <th>2013-08</th>\n",
       "      <td>523649.223450</td>\n",
       "      <td>523773.079501</td>\n",
       "    </tr>\n",
       "    <tr>\n",
       "      <th>2013-09</th>\n",
       "      <td>459425.011575</td>\n",
       "      <td>522945.782003</td>\n",
       "    </tr>\n",
       "    <tr>\n",
       "      <th>2013-10</th>\n",
       "      <td>499158.987715</td>\n",
       "      <td>474178.578281</td>\n",
       "    </tr>\n",
       "    <tr>\n",
       "      <th>2013-11</th>\n",
       "      <td>457547.261180</td>\n",
       "      <td>495479.842585</td>\n",
       "    </tr>\n",
       "    <tr>\n",
       "      <th>2013-12</th>\n",
       "      <td>591422.108985</td>\n",
       "      <td>437422.516880</td>\n",
       "    </tr>\n",
       "    <tr>\n",
       "      <th>2014-01</th>\n",
       "      <td>425281.348833</td>\n",
       "      <td>681074.978341</td>\n",
       "    </tr>\n",
       "    <tr>\n",
       "      <th>2014-02</th>\n",
       "      <td>491167.560532</td>\n",
       "      <td>504051.401936</td>\n",
       "    </tr>\n",
       "    <tr>\n",
       "      <th>2014-03</th>\n",
       "      <td>550482.295050</td>\n",
       "      <td>502930.529861</td>\n",
       "    </tr>\n",
       "    <tr>\n",
       "      <th>2014-04</th>\n",
       "      <td>623885.820375</td>\n",
       "      <td>547547.613797</td>\n",
       "    </tr>\n",
       "    <tr>\n",
       "      <th>2014-05</th>\n",
       "      <td>532731.601200</td>\n",
       "      <td>621204.929773</td>\n",
       "    </tr>\n",
       "    <tr>\n",
       "      <th>2014-06</th>\n",
       "      <td>520163.890200</td>\n",
       "      <td>538951.823536</td>\n",
       "    </tr>\n",
       "    <tr>\n",
       "      <th>2014-07</th>\n",
       "      <td>507000.543000</td>\n",
       "      <td>515672.025882</td>\n",
       "    </tr>\n",
       "    <tr>\n",
       "      <th>2014-08</th>\n",
       "      <td>528069.096750</td>\n",
       "      <td>510552.763088</td>\n",
       "    </tr>\n",
       "  </tbody>\n",
       "</table>\n",
       "</div>"
      ],
      "text/plain": [
       "                Volume       forecast\n",
       "date                                 \n",
       "2013-01  420800.266143       0.000000\n",
       "2013-02  458964.024450  320988.008678\n",
       "2013-03  523473.886725  441219.671495\n",
       "2013-04  548346.898425  506344.093302\n",
       "2013-05  595946.388375  540865.025477\n",
       "2013-06  536045.054100  583784.909393\n",
       "2013-07  518362.092975  549512.109047\n",
       "2013-08  523649.223450  523773.079501\n",
       "2013-09  459425.011575  522945.782003\n",
       "2013-10  499158.987715  474178.578281\n",
       "2013-11  457547.261180  495479.842585\n",
       "2013-12  591422.108985  437422.516880\n",
       "2014-01  425281.348833  681074.978341\n",
       "2014-02  491167.560532  504051.401936\n",
       "2014-03  550482.295050  502930.529861\n",
       "2014-04  623885.820375  547547.613797\n",
       "2014-05  532731.601200  621204.929773\n",
       "2014-06  520163.890200  538951.823536\n",
       "2014-07  507000.543000  515672.025882\n",
       "2014-08  528069.096750  510552.763088"
      ]
     },
     "execution_count": 276,
     "metadata": {},
     "output_type": "execute_result"
    }
   ],
   "source": [
    "dataset.head(20)"
   ]
  },
  {
   "cell_type": "markdown",
   "metadata": {},
   "source": [
    "# Question 4\n",
    "For this problem, I would do time series analysis of sales of each SKU, visually analyze how it is behaving, whether it is increasing or decreasing yearly. Since we do not have other variables, our interpretation is limited only to time series. However, it would have been better if we had more information on the variables, and if we had even more variables to understand why the sale of each SKU is increasing/decreasing"
   ]
  },
  {
   "cell_type": "code",
   "execution_count": 277,
   "metadata": {},
   "outputs": [
    {
     "data": {
      "text/html": [
       "<div>\n",
       "<style scoped>\n",
       "    .dataframe tbody tr th:only-of-type {\n",
       "        vertical-align: middle;\n",
       "    }\n",
       "\n",
       "    .dataframe tbody tr th {\n",
       "        vertical-align: top;\n",
       "    }\n",
       "\n",
       "    .dataframe thead th {\n",
       "        text-align: right;\n",
       "    }\n",
       "</style>\n",
       "<table border=\"1\" class=\"dataframe\">\n",
       "  <thead>\n",
       "    <tr style=\"text-align: right;\">\n",
       "      <th></th>\n",
       "      <th>SKU</th>\n",
       "      <th>mean1</th>\n",
       "      <th>mean2</th>\n",
       "    </tr>\n",
       "  </thead>\n",
       "  <tbody>\n",
       "    <tr>\n",
       "      <th>SKU_01</th>\n",
       "      <td>SKU_01</td>\n",
       "      <td>3124</td>\n",
       "      <td>2990</td>\n",
       "    </tr>\n",
       "    <tr>\n",
       "      <th>SKU_02</th>\n",
       "      <td>SKU_02</td>\n",
       "      <td>2343</td>\n",
       "      <td>2427</td>\n",
       "    </tr>\n",
       "    <tr>\n",
       "      <th>SKU_05</th>\n",
       "      <td>SKU_05</td>\n",
       "      <td>1191</td>\n",
       "      <td>1271</td>\n",
       "    </tr>\n",
       "    <tr>\n",
       "      <th>SKU_22</th>\n",
       "      <td>SKU_22</td>\n",
       "      <td>7</td>\n",
       "      <td>2</td>\n",
       "    </tr>\n",
       "    <tr>\n",
       "      <th>SKU_07</th>\n",
       "      <td>SKU_07</td>\n",
       "      <td>32</td>\n",
       "      <td>25</td>\n",
       "    </tr>\n",
       "    <tr>\n",
       "      <th>SKU_04</th>\n",
       "      <td>SKU_04</td>\n",
       "      <td>1088</td>\n",
       "      <td>1077</td>\n",
       "    </tr>\n",
       "    <tr>\n",
       "      <th>SKU_03</th>\n",
       "      <td>SKU_03</td>\n",
       "      <td>2046</td>\n",
       "      <td>2121</td>\n",
       "    </tr>\n",
       "    <tr>\n",
       "      <th>SKU_14</th>\n",
       "      <td>SKU_14</td>\n",
       "      <td>4</td>\n",
       "      <td>1</td>\n",
       "    </tr>\n",
       "    <tr>\n",
       "      <th>SKU_21</th>\n",
       "      <td>SKU_21</td>\n",
       "      <td>1</td>\n",
       "      <td>4</td>\n",
       "    </tr>\n",
       "    <tr>\n",
       "      <th>SKU_18</th>\n",
       "      <td>SKU_18</td>\n",
       "      <td>3</td>\n",
       "      <td>2</td>\n",
       "    </tr>\n",
       "    <tr>\n",
       "      <th>SKU_17</th>\n",
       "      <td>SKU_17</td>\n",
       "      <td>6</td>\n",
       "      <td>3</td>\n",
       "    </tr>\n",
       "    <tr>\n",
       "      <th>SKU_34</th>\n",
       "      <td>SKU_34</td>\n",
       "      <td>52</td>\n",
       "      <td>55</td>\n",
       "    </tr>\n",
       "    <tr>\n",
       "      <th>SKU_23</th>\n",
       "      <td>SKU_23</td>\n",
       "      <td>2</td>\n",
       "      <td>2</td>\n",
       "    </tr>\n",
       "    <tr>\n",
       "      <th>SKU_06</th>\n",
       "      <td>SKU_06</td>\n",
       "      <td>192</td>\n",
       "      <td>189</td>\n",
       "    </tr>\n",
       "    <tr>\n",
       "      <th>SKU_32</th>\n",
       "      <td>SKU_32</td>\n",
       "      <td>19</td>\n",
       "      <td>4</td>\n",
       "    </tr>\n",
       "    <tr>\n",
       "      <th>SKU_24</th>\n",
       "      <td>SKU_24</td>\n",
       "      <td>10</td>\n",
       "      <td>0</td>\n",
       "    </tr>\n",
       "    <tr>\n",
       "      <th>SKU_08</th>\n",
       "      <td>SKU_08</td>\n",
       "      <td>78</td>\n",
       "      <td>58</td>\n",
       "    </tr>\n",
       "    <tr>\n",
       "      <th>SKU_11</th>\n",
       "      <td>SKU_11</td>\n",
       "      <td>20</td>\n",
       "      <td>11</td>\n",
       "    </tr>\n",
       "    <tr>\n",
       "      <th>SKU_15</th>\n",
       "      <td>SKU_15</td>\n",
       "      <td>3</td>\n",
       "      <td>0</td>\n",
       "    </tr>\n",
       "    <tr>\n",
       "      <th>SKU_20</th>\n",
       "      <td>SKU_20</td>\n",
       "      <td>12</td>\n",
       "      <td>4</td>\n",
       "    </tr>\n",
       "    <tr>\n",
       "      <th>SKU_28</th>\n",
       "      <td>SKU_28</td>\n",
       "      <td>0</td>\n",
       "      <td>0</td>\n",
       "    </tr>\n",
       "    <tr>\n",
       "      <th>SKU_27</th>\n",
       "      <td>SKU_27</td>\n",
       "      <td>1</td>\n",
       "      <td>2</td>\n",
       "    </tr>\n",
       "    <tr>\n",
       "      <th>SKU_26</th>\n",
       "      <td>SKU_26</td>\n",
       "      <td>0</td>\n",
       "      <td>4</td>\n",
       "    </tr>\n",
       "    <tr>\n",
       "      <th>SKU_12</th>\n",
       "      <td>SKU_12</td>\n",
       "      <td>14</td>\n",
       "      <td>17</td>\n",
       "    </tr>\n",
       "    <tr>\n",
       "      <th>SKU_31</th>\n",
       "      <td>SKU_31</td>\n",
       "      <td>27</td>\n",
       "      <td>36</td>\n",
       "    </tr>\n",
       "  </tbody>\n",
       "</table>\n",
       "</div>"
      ],
      "text/plain": [
       "           SKU  mean1  mean2\n",
       "SKU_01  SKU_01   3124   2990\n",
       "SKU_02  SKU_02   2343   2427\n",
       "SKU_05  SKU_05   1191   1271\n",
       "SKU_22  SKU_22      7      2\n",
       "SKU_07  SKU_07     32     25\n",
       "SKU_04  SKU_04   1088   1077\n",
       "SKU_03  SKU_03   2046   2121\n",
       "SKU_14  SKU_14      4      1\n",
       "SKU_21  SKU_21      1      4\n",
       "SKU_18  SKU_18      3      2\n",
       "SKU_17  SKU_17      6      3\n",
       "SKU_34  SKU_34     52     55\n",
       "SKU_23  SKU_23      2      2\n",
       "SKU_06  SKU_06    192    189\n",
       "SKU_32  SKU_32     19      4\n",
       "SKU_24  SKU_24     10      0\n",
       "SKU_08  SKU_08     78     58\n",
       "SKU_11  SKU_11     20     11\n",
       "SKU_15  SKU_15      3      0\n",
       "SKU_20  SKU_20     12      4\n",
       "SKU_28  SKU_28      0      0\n",
       "SKU_27  SKU_27      1      2\n",
       "SKU_26  SKU_26      0      4\n",
       "SKU_12  SKU_12     14     17\n",
       "SKU_31  SKU_31     27     36"
      ]
     },
     "execution_count": 277,
     "metadata": {},
     "output_type": "execute_result"
    }
   ],
   "source": [
    "dataset_new = pd.read_csv(\"C:/Users/Dell Inspiron14 7000/OneDrive/Desktop/py-test-1/train_OwBvO8W/historical_volume.csv\")\n",
    "dataset_new = dataset_new.astype({'YearMonth':'string'})\n",
    "dataset_new['date'] = dataset_new['YearMonth'].str.slice(0, 4)\n",
    "dataset_new = dataset_new.drop('YearMonth',axis=1)\n",
    "rslt_df = dataset_new[dataset_new['date'].isin(['2017', '2016'])]\n",
    "\n",
    "sku = rslt_df[\"SKU\"].unique()\n",
    "column_names = [\"SKU\", \"mean1\", \"mean2\"]\n",
    "\n",
    "my_data = pd.DataFrame(columns = column_names)\n",
    "for i in sku:\n",
    "    y1 = rslt_df[rslt_df['SKU'].isin([i])]\n",
    "    x1 = y1[y1['date'].isin(['2016'])]\n",
    "    x2 = y1[y1['date'].isin(['2017'])]\n",
    "    mean1 = x1[[\"Volume\"]].mean()\n",
    "    mean2 = x2[[\"Volume\"]].mean()\n",
    "    my_data.loc[i]=[i,int(mean1),int(mean2)]\n",
    " \n",
    "   \n",
    "my_data"
   ]
  },
  {
   "cell_type": "markdown",
   "metadata": {},
   "source": [
    "### Interpretation\n",
    "The reason why I compared the last two years was to see what is the consumer habbit currently. To see the volume of sales of each SKU, and also to see whether it is decreasing or increasing.\n",
    "As we can see above, SKU1, SKU2, SKU5, SKU4, and SKU3 have the highest number of sales. I would recommend the following: SKU2 and SKU3 have the second highest and third highest number of sales, and it is increasing year by year. Hence, two of my choices would be them.\n",
    "Although the sales of SKU1 is decreasing, the volume is too large to ignore. Thus, my third choice would be SKU1"
   ]
  },
  {
   "cell_type": "code",
   "execution_count": 278,
   "metadata": {},
   "outputs": [
    {
     "data": {
      "text/html": [
       "<div>\n",
       "<style scoped>\n",
       "    .dataframe tbody tr th:only-of-type {\n",
       "        vertical-align: middle;\n",
       "    }\n",
       "\n",
       "    .dataframe tbody tr th {\n",
       "        vertical-align: top;\n",
       "    }\n",
       "\n",
       "    .dataframe thead th {\n",
       "        text-align: right;\n",
       "    }\n",
       "</style>\n",
       "<table border=\"1\" class=\"dataframe\">\n",
       "  <thead>\n",
       "    <tr style=\"text-align: right;\">\n",
       "      <th></th>\n",
       "      <th>Agency</th>\n",
       "      <th>SKU</th>\n",
       "      <th>Volume</th>\n",
       "      <th>date</th>\n",
       "    </tr>\n",
       "  </thead>\n",
       "  <tbody>\n",
       "    <tr>\n",
       "      <th>0</th>\n",
       "      <td>Agency_22</td>\n",
       "      <td>SKU_01</td>\n",
       "      <td>52.2720</td>\n",
       "      <td>2013</td>\n",
       "    </tr>\n",
       "    <tr>\n",
       "      <th>1</th>\n",
       "      <td>Agency_22</td>\n",
       "      <td>SKU_02</td>\n",
       "      <td>110.7000</td>\n",
       "      <td>2013</td>\n",
       "    </tr>\n",
       "    <tr>\n",
       "      <th>2</th>\n",
       "      <td>Agency_58</td>\n",
       "      <td>SKU_23</td>\n",
       "      <td>0.0000</td>\n",
       "      <td>2013</td>\n",
       "    </tr>\n",
       "    <tr>\n",
       "      <th>3</th>\n",
       "      <td>Agency_48</td>\n",
       "      <td>SKU_07</td>\n",
       "      <td>28.3200</td>\n",
       "      <td>2013</td>\n",
       "    </tr>\n",
       "    <tr>\n",
       "      <th>4</th>\n",
       "      <td>Agency_22</td>\n",
       "      <td>SKU_05</td>\n",
       "      <td>238.5387</td>\n",
       "      <td>2013</td>\n",
       "    </tr>\n",
       "  </tbody>\n",
       "</table>\n",
       "</div>"
      ],
      "text/plain": [
       "      Agency     SKU    Volume  date\n",
       "0  Agency_22  SKU_01   52.2720  2013\n",
       "1  Agency_22  SKU_02  110.7000  2013\n",
       "2  Agency_58  SKU_23    0.0000  2013\n",
       "3  Agency_48  SKU_07   28.3200  2013\n",
       "4  Agency_22  SKU_05  238.5387  2013"
      ]
     },
     "execution_count": 278,
     "metadata": {},
     "output_type": "execute_result"
    }
   ],
   "source": [
    "dataset_new.head()"
   ]
  },
  {
   "cell_type": "markdown",
   "metadata": {},
   "source": [
    "# Question 5\n",
    "In this situation. Since we do not have more information. I would do a simple K-fold validation where I would randomize the data, split it into random groups (k groups), divide them into test and train datasets, run them and analyze the evaluation.\n",
    "Other methods that I can use include learning rate, Dropout Regularization, and use random search algorithm."
   ]
  },
  {
   "cell_type": "markdown",
   "metadata": {},
   "source": [
    "# 6th Question"
   ]
  },
  {
   "cell_type": "code",
   "execution_count": 312,
   "metadata": {},
   "outputs": [],
   "source": [
    "dataset= pd.read_csv(\"C:/Users/Dell Inspiron14 7000/OneDrive/Desktop/py-test-1/train_OwBvO8W/price_sales_promotion.csv\")"
   ]
  },
  {
   "cell_type": "code",
   "execution_count": 313,
   "metadata": {},
   "outputs": [
    {
     "name": "stdout",
     "output_type": "stream",
     "text": [
      "         Promotions\n",
      "date               \n",
      "2013-01  108.067269\n",
      "2013-02   76.082805\n",
      "2013-03   78.212187\n",
      "2013-04   88.404143\n",
      "2013-05   81.361470\n",
      "...             ...\n",
      "2017-03   57.174577\n",
      "2017-05    3.561416\n",
      "2017-07   33.519028\n",
      "2017-09   88.092373\n",
      "2017-12    6.006356\n",
      "\n",
      "[21000 rows x 1 columns]\n"
     ]
    }
   ],
   "source": [
    "dataset= pd.read_csv(\"C:/Users/Dell Inspiron14 7000/OneDrive/Desktop/py-test-1/train_OwBvO8W/price_sales_promotion.csv\")\n",
    "dataset = dataset.astype({'YearMonth':'string'})\n",
    "dataset['date'] = dataset['YearMonth'].str.slice(0, 4)+'-'+dataset['YearMonth'].str.slice(4, 6)\n",
    "dataset = dataset.drop('YearMonth',axis=1)\n",
    "dataset = dataset.drop('Agency',axis=1)\n",
    "dataset = dataset.drop('SKU',axis=1)\n",
    "\n",
    "dataset = dataset.drop('Sales',axis=1)\n",
    "dataset = dataset.drop('Price',axis=1)\n",
    "\n",
    "dataset.set_index(\"date\", inplace = True)\n",
    "dataset.index = pd.DatetimeIndex(dataset.index).to_period('M')\n",
    "print(dataset)"
   ]
  },
  {
   "cell_type": "code",
   "execution_count": 314,
   "metadata": {},
   "outputs": [
    {
     "data": {
      "text/plain": [
       "(-27.919426929658602,\n",
       " 0.0,\n",
       " 12,\n",
       " 20987,\n",
       " {'1%': -3.4306616262452376,\n",
       "  '5%': -2.861677728204834,\n",
       "  '10%': -2.566843308898116},\n",
       " 281525.08015415334)"
      ]
     },
     "execution_count": 314,
     "metadata": {},
     "output_type": "execute_result"
    }
   ],
   "source": [
    "adfuller(dataset)"
   ]
  },
  {
   "cell_type": "code",
   "execution_count": 315,
   "metadata": {},
   "outputs": [
    {
     "name": "stdout",
     "output_type": "stream",
     "text": [
      "               Price\n",
      "date                \n",
      "2013-01  1141.500000\n",
      "2013-02  1141.500000\n",
      "2013-03  1179.345820\n",
      "2013-04  1226.687500\n",
      "2013-05  1230.331104\n",
      "...              ...\n",
      "2017-03  1495.906780\n",
      "2017-05  1495.906780\n",
      "2017-07  1495.906780\n",
      "2017-09  1495.906780\n",
      "2017-12  1501.108475\n",
      "\n",
      "[21000 rows x 1 columns]\n"
     ]
    }
   ],
   "source": [
    "dataset= pd.read_csv(\"C:/Users/Dell Inspiron14 7000/OneDrive/Desktop/py-test-1/train_OwBvO8W/price_sales_promotion.csv\")\n",
    "dataset = dataset.astype({'YearMonth':'string'})\n",
    "dataset['date'] = dataset['YearMonth'].str.slice(0, 4)+'-'+dataset['YearMonth'].str.slice(4, 6)\n",
    "dataset = dataset.drop('YearMonth',axis=1)\n",
    "dataset = dataset.drop('Agency',axis=1)\n",
    "dataset = dataset.drop('SKU',axis=1)\n",
    "\n",
    "dataset = dataset.drop('Promotions',axis=1)\n",
    "dataset = dataset.drop('Sales',axis=1)\n",
    "\n",
    "dataset.set_index(\"date\", inplace = True)\n",
    "dataset.index = pd.DatetimeIndex(dataset.index).to_period('M')\n",
    "print(dataset)"
   ]
  },
  {
   "cell_type": "code",
   "execution_count": 316,
   "metadata": {},
   "outputs": [
    {
     "data": {
      "text/plain": [
       "(-11.77246323696293,\n",
       " 1.0817886384080004e-21,\n",
       " 46,\n",
       " 20953,\n",
       " {'1%': -3.4306621319766744,\n",
       "  '5%': -2.861677951709183,\n",
       "  '10%': -2.566843427865315},\n",
       " 293986.2398448497)"
      ]
     },
     "execution_count": 316,
     "metadata": {},
     "output_type": "execute_result"
    }
   ],
   "source": [
    "adfuller(dataset)"
   ]
  },
  {
   "cell_type": "code",
   "execution_count": 317,
   "metadata": {},
   "outputs": [
    {
     "name": "stdout",
     "output_type": "stream",
     "text": [
      "               Sales\n",
      "date                \n",
      "2013-01  1033.432731\n",
      "2013-02  1065.417195\n",
      "2013-03  1101.133633\n",
      "2013-04  1138.283357\n",
      "2013-05  1148.969634\n",
      "...              ...\n",
      "2017-03  1438.732203\n",
      "2017-05  1499.468196\n",
      "2017-07  1462.387752\n",
      "2017-09  1407.814407\n",
      "2017-12  1507.114831\n",
      "\n",
      "[21000 rows x 1 columns]\n"
     ]
    }
   ],
   "source": [
    "dataset= pd.read_csv(\"C:/Users/Dell Inspiron14 7000/OneDrive/Desktop/py-test-1/train_OwBvO8W/price_sales_promotion.csv\")\n",
    "dataset = dataset.astype({'YearMonth':'string'})\n",
    "dataset['date'] = dataset['YearMonth'].str.slice(0, 4)+'-'+dataset['YearMonth'].str.slice(4, 6)\n",
    "dataset = dataset.drop('YearMonth',axis=1)\n",
    "dataset = dataset.drop('Agency',axis=1)\n",
    "dataset = dataset.drop('SKU',axis=1)\n",
    "\n",
    "dataset = dataset.drop('Promotions',axis=1)\n",
    "dataset = dataset.drop('Price',axis=1)\n",
    "\n",
    "dataset.set_index(\"date\", inplace = True)\n",
    "dataset.index = pd.DatetimeIndex(dataset.index).to_period('M')\n",
    "print(dataset)"
   ]
  },
  {
   "cell_type": "code",
   "execution_count": 318,
   "metadata": {},
   "outputs": [
    {
     "data": {
      "text/plain": [
       "(-11.777615058652797,\n",
       " 1.0532778236729742e-21,\n",
       " 46,\n",
       " 20953,\n",
       " {'1%': -3.4306621319766744,\n",
       "  '5%': -2.861677951709183,\n",
       "  '10%': -2.566843427865315},\n",
       " 288580.5384672755)"
      ]
     },
     "execution_count": 318,
     "metadata": {},
     "output_type": "execute_result"
    }
   ],
   "source": [
    "adfuller(dataset)"
   ]
  },
  {
   "cell_type": "markdown",
   "metadata": {},
   "source": [
    "All of our variables are stationary. Hence, we can proceed with our statistical analysis."
   ]
  },
  {
   "cell_type": "code",
   "execution_count": 319,
   "metadata": {},
   "outputs": [
    {
     "name": "stdout",
     "output_type": "stream",
     "text": [
      "               Sales  Promotions\n",
      "date                            \n",
      "2013-01  1033.432731  108.067269\n",
      "2013-02  1065.417195   76.082805\n",
      "2013-03  1101.133633   78.212187\n",
      "2013-04  1138.283357   88.404143\n",
      "2013-05  1148.969634   81.361470\n",
      "...              ...         ...\n",
      "2017-03  1438.732203   57.174577\n",
      "2017-05  1499.468196    3.561416\n",
      "2017-07  1462.387752   33.519028\n",
      "2017-09  1407.814407   88.092373\n",
      "2017-12  1507.114831    6.006356\n",
      "\n",
      "[21000 rows x 2 columns]\n"
     ]
    }
   ],
   "source": [
    "dataset= pd.read_csv(\"C:/Users/Dell Inspiron14 7000/OneDrive/Desktop/py-test-1/train_OwBvO8W/price_sales_promotion.csv\")\n",
    "dataset = dataset.astype({'YearMonth':'string'})\n",
    "dataset['date'] = dataset['YearMonth'].str.slice(0, 4)+'-'+dataset['YearMonth'].str.slice(4, 6)\n",
    "dataset = dataset.drop('YearMonth',axis=1)\n",
    "dataset = dataset.drop('Agency',axis=1)\n",
    "dataset = dataset.drop('SKU',axis=1)\n",
    "\n",
    "dataset = dataset.drop('Price',axis=1)\n",
    "\n",
    "dataset.set_index(\"date\", inplace = True)\n",
    "dataset.index = pd.DatetimeIndex(dataset.index).to_period('M')\n",
    "print(dataset)"
   ]
  },
  {
   "cell_type": "code",
   "execution_count": 320,
   "metadata": {},
   "outputs": [],
   "source": [
    "Y = dataset.Sales\n",
    "X = dataset.drop('Sales', axis=1)\n",
    "X = sm.add_constant(X)"
   ]
  },
  {
   "cell_type": "code",
   "execution_count": 321,
   "metadata": {},
   "outputs": [
    {
     "data": {
      "text/html": [
       "<div>\n",
       "<style scoped>\n",
       "    .dataframe tbody tr th:only-of-type {\n",
       "        vertical-align: middle;\n",
       "    }\n",
       "\n",
       "    .dataframe tbody tr th {\n",
       "        vertical-align: top;\n",
       "    }\n",
       "\n",
       "    .dataframe thead th {\n",
       "        text-align: right;\n",
       "    }\n",
       "</style>\n",
       "<table border=\"1\" class=\"dataframe\">\n",
       "  <thead>\n",
       "    <tr style=\"text-align: right;\">\n",
       "      <th></th>\n",
       "      <th>const</th>\n",
       "      <th>Promotions</th>\n",
       "    </tr>\n",
       "    <tr>\n",
       "      <th>date</th>\n",
       "      <th></th>\n",
       "      <th></th>\n",
       "    </tr>\n",
       "  </thead>\n",
       "  <tbody>\n",
       "    <tr>\n",
       "      <th>2013-01</th>\n",
       "      <td>1.0</td>\n",
       "      <td>108.067269</td>\n",
       "    </tr>\n",
       "    <tr>\n",
       "      <th>2013-02</th>\n",
       "      <td>1.0</td>\n",
       "      <td>76.082805</td>\n",
       "    </tr>\n",
       "    <tr>\n",
       "      <th>2013-03</th>\n",
       "      <td>1.0</td>\n",
       "      <td>78.212187</td>\n",
       "    </tr>\n",
       "    <tr>\n",
       "      <th>2013-04</th>\n",
       "      <td>1.0</td>\n",
       "      <td>88.404143</td>\n",
       "    </tr>\n",
       "    <tr>\n",
       "      <th>2013-05</th>\n",
       "      <td>1.0</td>\n",
       "      <td>81.361470</td>\n",
       "    </tr>\n",
       "    <tr>\n",
       "      <th>...</th>\n",
       "      <td>...</td>\n",
       "      <td>...</td>\n",
       "    </tr>\n",
       "    <tr>\n",
       "      <th>2017-03</th>\n",
       "      <td>1.0</td>\n",
       "      <td>57.174577</td>\n",
       "    </tr>\n",
       "    <tr>\n",
       "      <th>2017-05</th>\n",
       "      <td>1.0</td>\n",
       "      <td>3.561416</td>\n",
       "    </tr>\n",
       "    <tr>\n",
       "      <th>2017-07</th>\n",
       "      <td>1.0</td>\n",
       "      <td>33.519028</td>\n",
       "    </tr>\n",
       "    <tr>\n",
       "      <th>2017-09</th>\n",
       "      <td>1.0</td>\n",
       "      <td>88.092373</td>\n",
       "    </tr>\n",
       "    <tr>\n",
       "      <th>2017-12</th>\n",
       "      <td>1.0</td>\n",
       "      <td>6.006356</td>\n",
       "    </tr>\n",
       "  </tbody>\n",
       "</table>\n",
       "<p>21000 rows × 2 columns</p>\n",
       "</div>"
      ],
      "text/plain": [
       "         const  Promotions\n",
       "date                      \n",
       "2013-01    1.0  108.067269\n",
       "2013-02    1.0   76.082805\n",
       "2013-03    1.0   78.212187\n",
       "2013-04    1.0   88.404143\n",
       "2013-05    1.0   81.361470\n",
       "...        ...         ...\n",
       "2017-03    1.0   57.174577\n",
       "2017-05    1.0    3.561416\n",
       "2017-07    1.0   33.519028\n",
       "2017-09    1.0   88.092373\n",
       "2017-12    1.0    6.006356\n",
       "\n",
       "[21000 rows x 2 columns]"
      ]
     },
     "execution_count": 321,
     "metadata": {},
     "output_type": "execute_result"
    }
   ],
   "source": [
    "X"
   ]
  },
  {
   "cell_type": "code",
   "execution_count": 322,
   "metadata": {},
   "outputs": [
    {
     "data": {
      "text/html": [
       "<table class=\"simpletable\">\n",
       "<caption>OLS Regression Results</caption>\n",
       "<tr>\n",
       "  <th>Dep. Variable:</th>          <td>Sales</td>      <th>  R-squared:         </th>  <td>   0.034</td>  \n",
       "</tr>\n",
       "<tr>\n",
       "  <th>Model:</th>                   <td>OLS</td>       <th>  Adj. R-squared:    </th>  <td>   0.034</td>  \n",
       "</tr>\n",
       "<tr>\n",
       "  <th>Method:</th>             <td>Least Squares</td>  <th>  F-statistic:       </th>  <td>   734.6</td>  \n",
       "</tr>\n",
       "<tr>\n",
       "  <th>Date:</th>             <td>Fri, 27 May 2022</td> <th>  Prob (F-statistic):</th>  <td>4.78e-159</td> \n",
       "</tr>\n",
       "<tr>\n",
       "  <th>Time:</th>                 <td>15:25:07</td>     <th>  Log-Likelihood:    </th> <td>-1.6334e+05</td>\n",
       "</tr>\n",
       "<tr>\n",
       "  <th>No. Observations:</th>      <td> 21000</td>      <th>  AIC:               </th>  <td>3.267e+05</td> \n",
       "</tr>\n",
       "<tr>\n",
       "  <th>Df Residuals:</th>          <td> 20998</td>      <th>  BIC:               </th>  <td>3.267e+05</td> \n",
       "</tr>\n",
       "<tr>\n",
       "  <th>Df Model:</th>              <td>     1</td>      <th>                     </th>      <td> </td>     \n",
       "</tr>\n",
       "<tr>\n",
       "  <th>Covariance Type:</th>      <td>nonrobust</td>    <th>                     </th>      <td> </td>     \n",
       "</tr>\n",
       "</table>\n",
       "<table class=\"simpletable\">\n",
       "<tr>\n",
       "       <td></td>         <th>coef</th>     <th>std err</th>      <th>t</th>      <th>P>|t|</th>  <th>[0.025</th>    <th>0.975]</th>  \n",
       "</tr>\n",
       "<tr>\n",
       "  <th>const</th>      <td> 1189.9635</td> <td>    4.904</td> <td>  242.666</td> <td> 0.000</td> <td> 1180.352</td> <td> 1199.575</td>\n",
       "</tr>\n",
       "<tr>\n",
       "  <th>Promotions</th> <td>    0.4197</td> <td>    0.015</td> <td>   27.104</td> <td> 0.000</td> <td>    0.389</td> <td>    0.450</td>\n",
       "</tr>\n",
       "</table>\n",
       "<table class=\"simpletable\">\n",
       "<tr>\n",
       "  <th>Omnibus:</th>       <td>4016.628</td> <th>  Durbin-Watson:     </th> <td>   0.256</td> \n",
       "</tr>\n",
       "<tr>\n",
       "  <th>Prob(Omnibus):</th>  <td> 0.000</td>  <th>  Jarque-Bera (JB):  </th> <td>68428.234</td>\n",
       "</tr>\n",
       "<tr>\n",
       "  <th>Skew:</th>           <td>-0.441</td>  <th>  Prob(JB):          </th> <td>    0.00</td> \n",
       "</tr>\n",
       "<tr>\n",
       "  <th>Kurtosis:</th>       <td>11.799</td>  <th>  Cond. No.          </th> <td>    389.</td> \n",
       "</tr>\n",
       "</table><br/><br/>Notes:<br/>[1] Standard Errors assume that the covariance matrix of the errors is correctly specified."
      ],
      "text/plain": [
       "<class 'statsmodels.iolib.summary.Summary'>\n",
       "\"\"\"\n",
       "                            OLS Regression Results                            \n",
       "==============================================================================\n",
       "Dep. Variable:                  Sales   R-squared:                       0.034\n",
       "Model:                            OLS   Adj. R-squared:                  0.034\n",
       "Method:                 Least Squares   F-statistic:                     734.6\n",
       "Date:                Fri, 27 May 2022   Prob (F-statistic):          4.78e-159\n",
       "Time:                        15:25:07   Log-Likelihood:            -1.6334e+05\n",
       "No. Observations:               21000   AIC:                         3.267e+05\n",
       "Df Residuals:                   20998   BIC:                         3.267e+05\n",
       "Df Model:                           1                                         \n",
       "Covariance Type:            nonrobust                                         \n",
       "==============================================================================\n",
       "                 coef    std err          t      P>|t|      [0.025      0.975]\n",
       "------------------------------------------------------------------------------\n",
       "const       1189.9635      4.904    242.666      0.000    1180.352    1199.575\n",
       "Promotions     0.4197      0.015     27.104      0.000       0.389       0.450\n",
       "==============================================================================\n",
       "Omnibus:                     4016.628   Durbin-Watson:                   0.256\n",
       "Prob(Omnibus):                  0.000   Jarque-Bera (JB):            68428.234\n",
       "Skew:                          -0.441   Prob(JB):                         0.00\n",
       "Kurtosis:                      11.799   Cond. No.                         389.\n",
       "==============================================================================\n",
       "\n",
       "Notes:\n",
       "[1] Standard Errors assume that the covariance matrix of the errors is correctly specified.\n",
       "\"\"\""
      ]
     },
     "execution_count": 322,
     "metadata": {},
     "output_type": "execute_result"
    }
   ],
   "source": [
    "#now we do regression\n",
    "model = sm.OLS(Y, X)\n",
    "results = model.fit()\n",
    "results.summary()"
   ]
  },
  {
   "cell_type": "code",
   "execution_count": 323,
   "metadata": {},
   "outputs": [
    {
     "name": "stdout",
     "output_type": "stream",
     "text": [
      "== Inverted Correlation Matrix ==\n",
      "\n",
      "               Sales  Promotions\n",
      "Sales       1.034986   -0.190289\n",
      "Promotions -0.190289    1.034986\n"
     ]
    }
   ],
   "source": [
    "pd.set_option('display.max_columns', 8)\n",
    "print('== Inverted Correlation Matrix ==')\n",
    "print('')\n",
    "print(pd.DataFrame(np.linalg.inv(dataset.corr()), index=dataset.columns, columns=dataset.columns))"
   ]
  },
  {
   "cell_type": "code",
   "execution_count": 324,
   "metadata": {},
   "outputs": [
    {
     "name": "stderr",
     "output_type": "stream",
     "text": [
      "C:\\Users\\Dell Inspiron14 7000\\AppData\\Local\\Temp\\ipykernel_6648\\942545073.py:5: UserWarning: FixedFormatter should only be used together with FixedLocator\n",
      "  ax.set_xticklabels([''] + ['Price', 'Sales', 'Promotions'])\n",
      "C:\\Users\\Dell Inspiron14 7000\\AppData\\Local\\Temp\\ipykernel_6648\\942545073.py:6: UserWarning: FixedFormatter should only be used together with FixedLocator\n",
      "  ax.set_yticklabels([''] + ['Price', 'Sales', 'Promotions'])\n"
     ]
    },
    {
     "data": {
      "image/png": "[encoded data removed]",
      "text/plain": [
       "<Figure size 432x288 with 2 Axes>"
      ]
     },
     "metadata": {
      "needs_background": "light"
     },
     "output_type": "display_data"
    }
   ],
   "source": [
    "fig = plt.figure()\n",
    "ax = fig.add_subplot(111)\n",
    "cax = ax.matshow(np.linalg.inv(dataset.corr()), cmap='Blues')\n",
    "fig.colorbar(cax)\n",
    "ax.set_xticklabels([''] + ['Price', 'Sales', 'Promotions'])\n",
    "ax.set_yticklabels([''] + ['Price', 'Sales', 'Promotions'])\n",
    "ax.set_title('Inverted Correlation Matrix')\n",
    "plt.show()"
   ]
  },
  {
   "cell_type": "code",
   "execution_count": 325,
   "metadata": {},
   "outputs": [
    {
     "name": "stdout",
     "output_type": "stream",
     "text": [
      "                  Sales   Promotions\n",
      "Sales       2421.407278  1060.481521\n",
      "Promotions  1060.481521   465.849714\n"
     ]
    }
   ],
   "source": [
    "ivaricor = pd.DataFrame(data=ivaricor, index=dataset.columns, columns=dataset.columns)\n",
    "print(ivaricor)"
   ]
  },
  {
   "cell_type": "code",
   "execution_count": 326,
   "metadata": {},
   "outputs": [
    {
     "data": {
      "text/plain": [
       "<AxesSubplot:>"
      ]
     },
     "execution_count": 326,
     "metadata": {},
     "output_type": "execute_result"
    },
    {
     "data": {
      "image/png": "[encoded data removed]",
      "text/plain": [
       "<Figure size 432x288 with 2 Axes>"
      ]
     },
     "metadata": {
      "needs_background": "light"
     },
     "output_type": "display_data"
    }
   ],
   "source": [
    "sns.heatmap(data=ivaricor, cmap=\"Blues\", annot=True)"
   ]
  },
  {
   "cell_type": "code",
   "execution_count": 327,
   "metadata": {},
   "outputs": [
    {
     "data": {
      "text/html": [
       "<table class=\"simpletable\">\n",
       "<caption>OLS Regression Results</caption>\n",
       "<tr>\n",
       "  <th>Dep. Variable:</th>          <td>Sales</td>      <th>  R-squared:         </th>  <td>   0.034</td>  \n",
       "</tr>\n",
       "<tr>\n",
       "  <th>Model:</th>                   <td>OLS</td>       <th>  Adj. R-squared:    </th>  <td>   0.034</td>  \n",
       "</tr>\n",
       "<tr>\n",
       "  <th>Method:</th>             <td>Least Squares</td>  <th>  F-statistic:       </th>  <td>   734.6</td>  \n",
       "</tr>\n",
       "<tr>\n",
       "  <th>Date:</th>             <td>Fri, 27 May 2022</td> <th>  Prob (F-statistic):</th>  <td>4.78e-159</td> \n",
       "</tr>\n",
       "<tr>\n",
       "  <th>Time:</th>                 <td>15:25:28</td>     <th>  Log-Likelihood:    </th> <td>-1.6334e+05</td>\n",
       "</tr>\n",
       "<tr>\n",
       "  <th>No. Observations:</th>      <td> 21000</td>      <th>  AIC:               </th>  <td>3.267e+05</td> \n",
       "</tr>\n",
       "<tr>\n",
       "  <th>Df Residuals:</th>          <td> 20998</td>      <th>  BIC:               </th>  <td>3.267e+05</td> \n",
       "</tr>\n",
       "<tr>\n",
       "  <th>Df Model:</th>              <td>     1</td>      <th>                     </th>      <td> </td>     \n",
       "</tr>\n",
       "<tr>\n",
       "  <th>Covariance Type:</th>      <td>nonrobust</td>    <th>                     </th>      <td> </td>     \n",
       "</tr>\n",
       "</table>\n",
       "<table class=\"simpletable\">\n",
       "<tr>\n",
       "       <td></td>         <th>coef</th>     <th>std err</th>      <th>t</th>      <th>P>|t|</th>  <th>[0.025</th>    <th>0.975]</th>  \n",
       "</tr>\n",
       "<tr>\n",
       "  <th>const</th>      <td> 1189.9635</td> <td>    4.904</td> <td>  242.666</td> <td> 0.000</td> <td> 1180.352</td> <td> 1199.575</td>\n",
       "</tr>\n",
       "<tr>\n",
       "  <th>Promotions</th> <td>    0.4197</td> <td>    0.015</td> <td>   27.104</td> <td> 0.000</td> <td>    0.389</td> <td>    0.450</td>\n",
       "</tr>\n",
       "</table>\n",
       "<table class=\"simpletable\">\n",
       "<tr>\n",
       "  <th>Omnibus:</th>       <td>4016.628</td> <th>  Durbin-Watson:     </th> <td>   0.256</td> \n",
       "</tr>\n",
       "<tr>\n",
       "  <th>Prob(Omnibus):</th>  <td> 0.000</td>  <th>  Jarque-Bera (JB):  </th> <td>68428.234</td>\n",
       "</tr>\n",
       "<tr>\n",
       "  <th>Skew:</th>           <td>-0.441</td>  <th>  Prob(JB):          </th> <td>    0.00</td> \n",
       "</tr>\n",
       "<tr>\n",
       "  <th>Kurtosis:</th>       <td>11.799</td>  <th>  Cond. No.          </th> <td>    389.</td> \n",
       "</tr>\n",
       "</table><br/><br/>Notes:<br/>[1] Standard Errors assume that the covariance matrix of the errors is correctly specified."
      ],
      "text/plain": [
       "<class 'statsmodels.iolib.summary.Summary'>\n",
       "\"\"\"\n",
       "                            OLS Regression Results                            \n",
       "==============================================================================\n",
       "Dep. Variable:                  Sales   R-squared:                       0.034\n",
       "Model:                            OLS   Adj. R-squared:                  0.034\n",
       "Method:                 Least Squares   F-statistic:                     734.6\n",
       "Date:                Fri, 27 May 2022   Prob (F-statistic):          4.78e-159\n",
       "Time:                        15:25:28   Log-Likelihood:            -1.6334e+05\n",
       "No. Observations:               21000   AIC:                         3.267e+05\n",
       "Df Residuals:                   20998   BIC:                         3.267e+05\n",
       "Df Model:                           1                                         \n",
       "Covariance Type:            nonrobust                                         \n",
       "==============================================================================\n",
       "                 coef    std err          t      P>|t|      [0.025      0.975]\n",
       "------------------------------------------------------------------------------\n",
       "const       1189.9635      4.904    242.666      0.000    1180.352    1199.575\n",
       "Promotions     0.4197      0.015     27.104      0.000       0.389       0.450\n",
       "==============================================================================\n",
       "Omnibus:                     4016.628   Durbin-Watson:                   0.256\n",
       "Prob(Omnibus):                  0.000   Jarque-Bera (JB):            68428.234\n",
       "Skew:                          -0.441   Prob(JB):                         0.00\n",
       "Kurtosis:                      11.799   Cond. No.                         389.\n",
       "==============================================================================\n",
       "\n",
       "Notes:\n",
       "[1] Standard Errors assume that the covariance matrix of the errors is correctly specified.\n",
       "\"\"\""
      ]
     },
     "execution_count": 327,
     "metadata": {},
     "output_type": "execute_result"
    }
   ],
   "source": [
    "dataset= pd.read_csv(\"C:/Users/Dell Inspiron14 7000/OneDrive/Desktop/py-test-1/train_OwBvO8W/price_sales_promotion.csv\")\n",
    "dataset = dataset.astype({'YearMonth':'string'})\n",
    "dataset['date'] = dataset['YearMonth'].str.slice(0, 4)+'-'+dataset['YearMonth'].str.slice(4, 6)\n",
    "dataset = dataset.drop('YearMonth',axis=1)\n",
    "dataset = dataset.drop('Agency',axis=1)\n",
    "dataset = dataset.drop('SKU',axis=1)\n",
    "\n",
    "dataset = dataset.drop('Price',axis=1)\n",
    "\n",
    "dataset.set_index(\"date\", inplace = True)\n",
    "dataset.index = pd.DatetimeIndex(dataset.index).to_period('M')\n",
    "\n",
    "Y = dataset.Sales\n",
    "X = dataset.drop('Sales', axis=1)\n",
    "X = sm.add_constant(X)\n",
    "\n",
    "X0, X1, Y0, Y1 = train_test_split(X, Y, test_size=0.25, random_state=42)\n",
    "\n",
    "model = sm.OLS(Y, X)\n",
    "results = model.fit()\n",
    "results.summary()"
   ]
  },
  {
   "cell_type": "code",
   "execution_count": 328,
   "metadata": {},
   "outputs": [
    {
     "data": {
      "text/plain": [
       "date\n",
       "2013-01   -201.887859\n",
       "2013-02   -156.479153\n",
       "2013-03   -121.656441\n",
       "2013-04    -88.784396\n",
       "2013-05    -75.142230\n",
       "2013-09    -72.494818\n",
       "2013-08    -23.398072\n",
       "2013-06    -83.673121\n",
       "2013-07    -64.390088\n",
       "2013-10    -85.725629\n",
       "Freq: M, dtype: float64"
      ]
     },
     "execution_count": 328,
     "metadata": {},
     "output_type": "execute_result"
    }
   ],
   "source": [
    "#residuals of the model\n",
    "residuals=results.resid\n",
    "residuals.head(10)"
   ]
  },
  {
   "cell_type": "code",
   "execution_count": 329,
   "metadata": {},
   "outputs": [
    {
     "name": "stdout",
     "output_type": "stream",
     "text": [
      "[('Lagrange multiplier statistic', 3097.50663308674), ('p-value', 0.0), ('f-value', 3633.094170098261), ('f p-value', 0.0)]\n"
     ]
    }
   ],
   "source": [
    "# now we conduct Breusch-Pagan test for hetroskedasticity\n",
    "bnames = ['Lagrange multiplier statistic', 'p-value',\n",
    "        'f-value', 'f p-value']\n",
    "breush = het_breuschpagan(residuals, results.model.exog)\n",
    "print(list(zip(bnames, breush)))"
   ]
  },
  {
   "cell_type": "code",
   "execution_count": 330,
   "metadata": {},
   "outputs": [
    {
     "name": "stdout",
     "output_type": "stream",
     "text": [
      "[('fstat', 3.3616097270112646), ('p-value', 0.0)]\n"
     ]
    }
   ],
   "source": [
    "# now we conduct Rainbow test for linearity to see if our model is linear\n",
    "# The null hypothesis assumes linearity\n",
    "rnames=[\"fstat\", \"p-value\"]\n",
    "rainbow=linear_rainbow(results)\n",
    "print(list(zip(rnames, rainbow)))"
   ]
  },
  {
   "cell_type": "code",
   "execution_count": 331,
   "metadata": {},
   "outputs": [
    {
     "name": "stderr",
     "output_type": "stream",
     "text": [
      "C:\\panda\\lib\\site-packages\\seaborn\\distributions.py:2619: FutureWarning: `distplot` is a deprecated function and will be removed in a future version. Please adapt your code to use either `displot` (a figure-level function with similar flexibility) or `histplot` (an axes-level function for histograms).\n",
      "  warnings.warn(msg, FutureWarning)\n"
     ]
    },
    {
     "data": {
      "image/png": "[encoded data removed]",
      "text/plain": [
       "<Figure size 432x288 with 1 Axes>"
      ]
     },
     "metadata": {
      "needs_background": "light"
     },
     "output_type": "display_data"
    }
   ],
   "source": [
    "#now we check for normality\n",
    "#distribution of residuals\n",
    "sns.distplot(residuals)\n",
    "plt.show()"
   ]
  },
  {
   "cell_type": "markdown",
   "metadata": {},
   "source": [
    "We can clearly see issues that the data is not normally distributed and the data is not homoskedastic. We will changing the promotion variable into logarithmic to see if the normality issue is fixed."
   ]
  },
  {
   "cell_type": "code",
   "execution_count": 332,
   "metadata": {
    "scrolled": true
   },
   "outputs": [
    {
     "data": {
      "text/html": [
       "<table class=\"simpletable\">\n",
       "<caption>OLS Regression Results</caption>\n",
       "<tr>\n",
       "  <th>Dep. Variable:</th>          <td>Sales</td>      <th>  R-squared:         </th>  <td>   0.002</td>  \n",
       "</tr>\n",
       "<tr>\n",
       "  <th>Model:</th>                   <td>OLS</td>       <th>  Adj. R-squared:    </th>  <td>   0.002</td>  \n",
       "</tr>\n",
       "<tr>\n",
       "  <th>Method:</th>             <td>Least Squares</td>  <th>  F-statistic:       </th>  <td>   28.05</td>  \n",
       "</tr>\n",
       "<tr>\n",
       "  <th>Date:</th>             <td>Fri, 27 May 2022</td> <th>  Prob (F-statistic):</th>  <td>1.20e-07</td>  \n",
       "</tr>\n",
       "<tr>\n",
       "  <th>Time:</th>                 <td>15:25:36</td>     <th>  Log-Likelihood:    </th> <td>-1.2951e+05</td>\n",
       "</tr>\n",
       "<tr>\n",
       "  <th>No. Observations:</th>      <td> 17739</td>      <th>  AIC:               </th>  <td>2.590e+05</td> \n",
       "</tr>\n",
       "<tr>\n",
       "  <th>Df Residuals:</th>          <td> 17737</td>      <th>  BIC:               </th>  <td>2.590e+05</td> \n",
       "</tr>\n",
       "<tr>\n",
       "  <th>Df Model:</th>              <td>     1</td>      <th>                     </th>      <td> </td>     \n",
       "</tr>\n",
       "<tr>\n",
       "  <th>Covariance Type:</th>      <td>nonrobust</td>    <th>                     </th>      <td> </td>     \n",
       "</tr>\n",
       "</table>\n",
       "<table class=\"simpletable\">\n",
       "<tr>\n",
       "         <td></td>           <th>coef</th>     <th>std err</th>      <th>t</th>      <th>P>|t|</th>  <th>[0.025</th>    <th>0.975]</th>  \n",
       "</tr>\n",
       "<tr>\n",
       "  <th>const</th>          <td> 1370.5954</td> <td>   13.364</td> <td>  102.560</td> <td> 0.000</td> <td> 1344.401</td> <td> 1396.790</td>\n",
       "</tr>\n",
       "<tr>\n",
       "  <th>log_Promotions</th> <td>   13.8264</td> <td>    2.611</td> <td>    5.296</td> <td> 0.000</td> <td>    8.709</td> <td>   18.944</td>\n",
       "</tr>\n",
       "</table>\n",
       "<table class=\"simpletable\">\n",
       "<tr>\n",
       "  <th>Omnibus:</th>       <td>11178.833</td> <th>  Durbin-Watson:     </th>  <td>   0.261</td> \n",
       "</tr>\n",
       "<tr>\n",
       "  <th>Prob(Omnibus):</th>  <td> 0.000</td>   <th>  Jarque-Bera (JB):  </th> <td>272308.738</td>\n",
       "</tr>\n",
       "<tr>\n",
       "  <th>Skew:</th>           <td> 2.622</td>   <th>  Prob(JB):          </th>  <td>    0.00</td> \n",
       "</tr>\n",
       "<tr>\n",
       "  <th>Kurtosis:</th>       <td>21.464</td>   <th>  Cond. No.          </th>  <td>    26.3</td> \n",
       "</tr>\n",
       "</table><br/><br/>Notes:<br/>[1] Standard Errors assume that the covariance matrix of the errors is correctly specified."
      ],
      "text/plain": [
       "<class 'statsmodels.iolib.summary.Summary'>\n",
       "\"\"\"\n",
       "                            OLS Regression Results                            \n",
       "==============================================================================\n",
       "Dep. Variable:                  Sales   R-squared:                       0.002\n",
       "Model:                            OLS   Adj. R-squared:                  0.002\n",
       "Method:                 Least Squares   F-statistic:                     28.05\n",
       "Date:                Fri, 27 May 2022   Prob (F-statistic):           1.20e-07\n",
       "Time:                        15:25:36   Log-Likelihood:            -1.2951e+05\n",
       "No. Observations:               17739   AIC:                         2.590e+05\n",
       "Df Residuals:                   17737   BIC:                         2.590e+05\n",
       "Df Model:                           1                                         \n",
       "Covariance Type:            nonrobust                                         \n",
       "==================================================================================\n",
       "                     coef    std err          t      P>|t|      [0.025      0.975]\n",
       "----------------------------------------------------------------------------------\n",
       "const           1370.5954     13.364    102.560      0.000    1344.401    1396.790\n",
       "log_Promotions    13.8264      2.611      5.296      0.000       8.709      18.944\n",
       "==============================================================================\n",
       "Omnibus:                    11178.833   Durbin-Watson:                   0.261\n",
       "Prob(Omnibus):                  0.000   Jarque-Bera (JB):           272308.738\n",
       "Skew:                           2.622   Prob(JB):                         0.00\n",
       "Kurtosis:                      21.464   Cond. No.                         26.3\n",
       "==============================================================================\n",
       "\n",
       "Notes:\n",
       "[1] Standard Errors assume that the covariance matrix of the errors is correctly specified.\n",
       "\"\"\""
      ]
     },
     "execution_count": 332,
     "metadata": {},
     "output_type": "execute_result"
    }
   ],
   "source": [
    "dataset= pd.read_csv(\"C:/Users/Dell Inspiron14 7000/OneDrive/Desktop/py-test-1/train_OwBvO8W/price_sales_promotion.csv\")\n",
    "dataset = dataset.astype({'YearMonth':'string'})\n",
    "dataset['date'] = dataset['YearMonth'].str.slice(0, 4)+'-'+dataset['YearMonth'].str.slice(4, 6)\n",
    "dataset = dataset.drop('YearMonth',axis=1)\n",
    "dataset = dataset.drop('Agency',axis=1)\n",
    "dataset = dataset.drop('SKU',axis=1)\n",
    "\n",
    "dataset = dataset.drop('Price',axis=1)\n",
    "\n",
    "dataset = dataset[dataset['Promotions'] != 0]\n",
    "dataset['log_Promotions'] = np.log(dataset['Promotions'])\n",
    "dataset = dataset.drop('Promotions',axis=1)\n",
    "\n",
    "dataset.set_index(\"date\", inplace = True)\n",
    "dataset.index = pd.DatetimeIndex(dataset.index).to_period('M')\n",
    "\n",
    "Y = dataset.Sales\n",
    "X = dataset.drop('Sales', axis=1)\n",
    "X = sm.add_constant(X)\n",
    "\n",
    "X0, X1, Y0, Y1 = train_test_split(X, Y, test_size=0.25, random_state=42)\n",
    "\n",
    "model = sm.OLS(Y, X)\n",
    "results = model.fit()\n",
    "results.summary()"
   ]
  },
  {
   "cell_type": "code",
   "execution_count": 333,
   "metadata": {
    "scrolled": true
   },
   "outputs": [
    {
     "name": "stderr",
     "output_type": "stream",
     "text": [
      "C:\\panda\\lib\\site-packages\\seaborn\\distributions.py:2619: FutureWarning: `distplot` is a deprecated function and will be removed in a future version. Please adapt your code to use either `displot` (a figure-level function with similar flexibility) or `histplot` (an axes-level function for histograms).\n",
      "  warnings.warn(msg, FutureWarning)\n"
     ]
    },
    {
     "data": {
      "image/png": "[encoded data removed]",
      "text/plain": [
       "<Figure size 432x288 with 1 Axes>"
      ]
     },
     "metadata": {
      "needs_background": "light"
     },
     "output_type": "display_data"
    }
   ],
   "source": [
    "#now we check for normality\n",
    "#distribution of residuals\n",
    "\n",
    "#residuals of the model\n",
    "residuals=results.resid\n",
    "residuals.head(10)\n",
    "\n",
    "\n",
    "sns.distplot(residuals)\n",
    "plt.show()"
   ]
  },
  {
   "cell_type": "markdown",
   "metadata": {},
   "source": [
    "The data is already more normally distributed, and we can clearly see this visually. This is due to the fact that we took the logarithmic version of the variable"
   ]
  },
  {
   "cell_type": "code",
   "execution_count": 308,
   "metadata": {
    "scrolled": true
   },
   "outputs": [
    {
     "data": {
      "image/png": "[encoded data removed]",
      "text/plain": [
       "<Figure size 432x288 with 1 Axes>"
      ]
     },
     "metadata": {
      "needs_background": "light"
     },
     "output_type": "display_data"
    }
   ],
   "source": [
    "qqplot(residuals,fit=True, line='45')\n",
    "plt.show()"
   ]
  },
  {
   "cell_type": "code",
   "execution_count": 309,
   "metadata": {},
   "outputs": [
    {
     "name": "stdout",
     "output_type": "stream",
     "text": [
      "[('The test statistic', 0.7911940813064575), ('p-value', 0.0)]\n"
     ]
    },
    {
     "name": "stderr",
     "output_type": "stream",
     "text": [
      "C:\\panda\\lib\\site-packages\\scipy\\stats\\morestats.py:1760: UserWarning: p-value may not be accurate for N > 5000.\n",
      "  warnings.warn(\"p-value may not be accurate for N > 5000.\")\n"
     ]
    }
   ],
   "source": [
    "#to further check for normality we conduct normality test\n",
    "#Shapiro-Wilk normality test. \n",
    "#The null-hypothesis of this test is that the data was drawn from a normal distribution\n",
    "snames=['The test statistic', 'p-value']\n",
    "shapiro=shapiro(residuals)\n",
    "print(list(zip(snames, shapiro)))"
   ]
  },
  {
   "cell_type": "markdown",
   "metadata": {},
   "source": [
    "### Interpretation\n",
    "Our results from the correlation table and the regressions coefficient for sales and promotion, is positive. Hence, we can rely on our regression results because when we use the price variable, our R^2 was outrageously high and the coeffient's sign of promotion was negative, which made us believe that there was a multi-collinearity issue\n",
    "\n",
    "From our regression table, we can agree with the manager who stated that increase in discount would increase sales. In more acedemic term, one unit increase in promotion, will result 0.4 unit increase in sales.\n",
    "\n",
    "One percent increase in promotion will result in 0.4% increase in sales.\n",
    "\n",
    "p value is smaller than 1%, 5% and 10% so we reject the null hypothesis for all of our tests. It should be noted that from here we should continue with robust standard error and we have to understand why all of our statistical tests failed. However, we also need more information on the data that we are working with and I am also assuming that would be out of the scope of the assignment (hopefully I am correct on that, since I could have made this assignment more complicated and made a way longer document with more tests and statistical analysis).\n",
    "\n",
    "There are further tests that could be conducted as well, such as tests for overfitting and underfitting, endogeneity, and more. However, as per my previous assumption, I will skip through them and just answer the question that was asked."
   ]
  },
  {
   "cell_type": "code",
   "execution_count": 334,
   "metadata": {},
   "outputs": [
    {
     "name": "stdout",
     "output_type": "stream",
     "text": [
      "               Sales  Promotions  Promotions_sq\n",
      "date                                           \n",
      "2013-01  1033.432731  108.067269   11678.534629\n",
      "2013-02  1065.417195   76.082805    5788.593217\n",
      "2013-03  1101.133633   78.212187    6117.146195\n",
      "2013-04  1138.283357   88.404143    7815.292500\n",
      "2013-05  1148.969634   81.361470    6619.688801\n",
      "...              ...         ...            ...\n",
      "2017-03  1438.732203   57.174577    3268.932255\n",
      "2017-05  1499.468196    3.561416      12.683684\n",
      "2017-07  1462.387752   33.519028    1123.525238\n",
      "2017-09  1407.814407   88.092373    7760.266181\n",
      "2017-12  1507.114831    6.006356      36.076312\n",
      "\n",
      "[21000 rows x 3 columns]\n"
     ]
    }
   ],
   "source": [
    "dataset= pd.read_csv(\"C:/Users/Dell Inspiron14 7000/OneDrive/Desktop/py-test-1/train_OwBvO8W/price_sales_promotion.csv\")\n",
    "dataset = dataset.astype({'YearMonth':'string'})\n",
    "dataset['date'] = dataset['YearMonth'].str.slice(0, 4)+'-'+dataset['YearMonth'].str.slice(4, 6)\n",
    "dataset = dataset.drop('YearMonth',axis=1)\n",
    "dataset = dataset.drop('Agency',axis=1)\n",
    "dataset = dataset.drop('SKU',axis=1)\n",
    "\n",
    "dataset = dataset.drop('Price',axis=1)\n",
    "dataset['Promotions_sq'] = dataset['Promotions']**2\n",
    "\n",
    "dataset.set_index(\"date\", inplace = True)\n",
    "dataset.index = pd.DatetimeIndex(dataset.index).to_period('M')\n",
    "print(dataset)"
   ]
  },
  {
   "cell_type": "code",
   "execution_count": 335,
   "metadata": {},
   "outputs": [],
   "source": [
    "Y = dataset.Sales\n",
    "X = dataset.drop('Sales', axis=1)\n",
    "X = sm.add_constant(X)"
   ]
  },
  {
   "cell_type": "code",
   "execution_count": 336,
   "metadata": {},
   "outputs": [
    {
     "data": {
      "text/html": [
       "<table class=\"simpletable\">\n",
       "<caption>OLS Regression Results</caption>\n",
       "<tr>\n",
       "  <th>Dep. Variable:</th>          <td>Sales</td>      <th>  R-squared:         </th>  <td>   0.077</td>  \n",
       "</tr>\n",
       "<tr>\n",
       "  <th>Model:</th>                   <td>OLS</td>       <th>  Adj. R-squared:    </th>  <td>   0.077</td>  \n",
       "</tr>\n",
       "<tr>\n",
       "  <th>Method:</th>             <td>Least Squares</td>  <th>  F-statistic:       </th>  <td>   880.5</td>  \n",
       "</tr>\n",
       "<tr>\n",
       "  <th>Date:</th>             <td>Fri, 27 May 2022</td> <th>  Prob (F-statistic):</th>   <td>  0.00</td>   \n",
       "</tr>\n",
       "<tr>\n",
       "  <th>Time:</th>                 <td>15:27:42</td>     <th>  Log-Likelihood:    </th> <td>-1.6285e+05</td>\n",
       "</tr>\n",
       "<tr>\n",
       "  <th>No. Observations:</th>      <td> 21000</td>      <th>  AIC:               </th>  <td>3.257e+05</td> \n",
       "</tr>\n",
       "<tr>\n",
       "  <th>Df Residuals:</th>          <td> 20997</td>      <th>  BIC:               </th>  <td>3.257e+05</td> \n",
       "</tr>\n",
       "<tr>\n",
       "  <th>Df Model:</th>              <td>     2</td>      <th>                     </th>      <td> </td>     \n",
       "</tr>\n",
       "<tr>\n",
       "  <th>Covariance Type:</th>      <td>nonrobust</td>    <th>                     </th>      <td> </td>     \n",
       "</tr>\n",
       "</table>\n",
       "<table class=\"simpletable\">\n",
       "<tr>\n",
       "        <td></td>           <th>coef</th>     <th>std err</th>      <th>t</th>      <th>P>|t|</th>  <th>[0.025</th>    <th>0.975]</th>  \n",
       "</tr>\n",
       "<tr>\n",
       "  <th>const</th>         <td> 1110.8324</td> <td>    5.411</td> <td>  205.296</td> <td> 0.000</td> <td> 1100.227</td> <td> 1121.438</td>\n",
       "</tr>\n",
       "<tr>\n",
       "  <th>Promotions</th>    <td>    0.8810</td> <td>    0.021</td> <td>   41.831</td> <td> 0.000</td> <td>    0.840</td> <td>    0.922</td>\n",
       "</tr>\n",
       "<tr>\n",
       "  <th>Promotions_sq</th> <td>-5.896e-05</td> <td> 1.87e-06</td> <td>  -31.490</td> <td> 0.000</td> <td>-6.26e-05</td> <td>-5.53e-05</td>\n",
       "</tr>\n",
       "</table>\n",
       "<table class=\"simpletable\">\n",
       "<tr>\n",
       "  <th>Omnibus:</th>       <td>2741.125</td> <th>  Durbin-Watson:     </th> <td>   0.330</td> \n",
       "</tr>\n",
       "<tr>\n",
       "  <th>Prob(Omnibus):</th>  <td> 0.000</td>  <th>  Jarque-Bera (JB):  </th> <td>33579.949</td>\n",
       "</tr>\n",
       "<tr>\n",
       "  <th>Skew:</th>           <td>-0.110</td>  <th>  Prob(JB):          </th> <td>    0.00</td> \n",
       "</tr>\n",
       "<tr>\n",
       "  <th>Kurtosis:</th>       <td> 9.191</td>  <th>  Cond. No.          </th> <td>4.02e+06</td> \n",
       "</tr>\n",
       "</table><br/><br/>Notes:<br/>[1] Standard Errors assume that the covariance matrix of the errors is correctly specified.<br/>[2] The condition number is large, 4.02e+06. This might indicate that there are<br/>strong multicollinearity or other numerical problems."
      ],
      "text/plain": [
       "<class 'statsmodels.iolib.summary.Summary'>\n",
       "\"\"\"\n",
       "                            OLS Regression Results                            \n",
       "==============================================================================\n",
       "Dep. Variable:                  Sales   R-squared:                       0.077\n",
       "Model:                            OLS   Adj. R-squared:                  0.077\n",
       "Method:                 Least Squares   F-statistic:                     880.5\n",
       "Date:                Fri, 27 May 2022   Prob (F-statistic):               0.00\n",
       "Time:                        15:27:42   Log-Likelihood:            -1.6285e+05\n",
       "No. Observations:               21000   AIC:                         3.257e+05\n",
       "Df Residuals:                   20997   BIC:                         3.257e+05\n",
       "Df Model:                           2                                         \n",
       "Covariance Type:            nonrobust                                         \n",
       "=================================================================================\n",
       "                    coef    std err          t      P>|t|      [0.025      0.975]\n",
       "---------------------------------------------------------------------------------\n",
       "const          1110.8324      5.411    205.296      0.000    1100.227    1121.438\n",
       "Promotions        0.8810      0.021     41.831      0.000       0.840       0.922\n",
       "Promotions_sq -5.896e-05   1.87e-06    -31.490      0.000   -6.26e-05   -5.53e-05\n",
       "==============================================================================\n",
       "Omnibus:                     2741.125   Durbin-Watson:                   0.330\n",
       "Prob(Omnibus):                  0.000   Jarque-Bera (JB):            33579.949\n",
       "Skew:                          -0.110   Prob(JB):                         0.00\n",
       "Kurtosis:                       9.191   Cond. No.                     4.02e+06\n",
       "==============================================================================\n",
       "\n",
       "Notes:\n",
       "[1] Standard Errors assume that the covariance matrix of the errors is correctly specified.\n",
       "[2] The condition number is large, 4.02e+06. This might indicate that there are\n",
       "strong multicollinearity or other numerical problems.\n",
       "\"\"\""
      ]
     },
     "execution_count": 336,
     "metadata": {},
     "output_type": "execute_result"
    }
   ],
   "source": [
    "#now we do regression\n",
    "model = sm.OLS(Y, X)\n",
    "results = model.fit()\n",
    "results.summary()"
   ]
  },
  {
   "cell_type": "markdown",
   "metadata": {},
   "source": [
    "### Interpretation\n",
    "To find the optimal for the promotion, we should run regression where we have promotion and squared promotion as regressors. Then we can manually calculate the partial derivative from which we can find how much promotion we should do.\n",
    "\n",
    "In the first data set, we did not have any independent variables, so we used the lag terms of the dependent variable as the regressor. However, as we can see, promotion has an effect on sales. So, we woould change our SARIMA model into SARIMAX model, X meaning the independent variable, which will increase the accuracy of our forecast"
   ]
  },
  {
   "cell_type": "markdown",
   "metadata": {},
   "source": [
    "# Question 9\n",
    "There are many reasons why a machine learning performance drops. It is important that we thoroughly analyze the model, the data, and the circumstances that created this situation.\n",
    "\n",
    "1) To start, it could be because lack of monitoring: The model always needs monitoring, no matter how well it works. Data changes over time, situations and circumstances change (especially as we have seen how our world change in the past 3 years). Hence, just because a model works well early on, does not mean it will work well forever. The model must be monitored and updated regularly, whether it is for minor development, complete new development of model, re-estimating the parameters, or it could be related to its variables.\n",
    "\n",
    "2)Samlping error: Since we do not know what happened, we do not know the situation, it could simply be a sampling error. Which means the data we gathered was basically wrong from early on. Maybe our target changed and we have demographics data. Of course the ML model won't work well as efficiently. We need to train new model with our new data.\n",
    "\n",
    "3) Model being dependent on dynamic variables: In such cases, where the dynamic variables changes significantly with time. In such cases, it is important to monitor the machine learning model frequently or try to find the reasons why it is dynamic and add new variables accoridngly. In both cases, both is recommended.\n",
    "\n",
    "4) Outliers: Outliers generally speaking creates problems to our model. Although it sometimes necessary to add since it further explains our analysis. It is good practice to get rid of them if possible.\n",
    "\n",
    "5) Changes in metric: Since we do not know the circumstances. Maybe the priorities of the management changed. Hence, they think the model is nor performing well even though it still is, but it is just not giving the answers they were looking for.\n",
    "\n",
    "6) Concept Drift: If the model is, for example, fraud detection, it is at risk of for concept drift since the definition of fraud changes\n",
    "\n",
    "7) Overfitting and underfitting issues: The model could have worked good at the start due to a fluke. However, it does not mean it was a good model from the start. Many people fall into the problem of overfitting while constructing a model. When the circumstances change, the problem of overfitting becomes more visual since the model was built for that specific data 2 years ago\n",
    "\n",
    "\n",
    "Furthermore, I would highly recommend continuous learning for the model where the automated systems can continuously evaluate and retrain models, and it can be completely automated. Though this is a very difficult process and requires constant monitoring."
   ]
  },
  {
   "cell_type": "markdown",
   "metadata": {},
   "source": [
    "## Closing Notes:\n",
    "\n",
    "Thank you for this opportunity, the assignment was not too complicated but it was a little bit time consuming (it also did not help that I was on vacation the same week that the assignment was given to me and I was out of town. Hence, I was juggling between trying to enjoy my vacation and doing the assignment).\n",
    "There are many more tests that could have been done and even more analysis, and interpretations. I did not want to overcomplicate the assignment by running more tests and manipulate the data further. However, if that is needed, please let me know so since I can do more and I am willing to do so.\n",
    "\n",
    "In case of any questions or comments please do no hesitate to let me know."
   ]
  },
  {
   "cell_type": "code",
   "execution_count": null,
   "metadata": {},
   "outputs": [],
   "source": []
  }
 ],
 "metadata": {
  "colab": {
   "collapsed_sections": [],
   "name": "b1.ipynb",
   "provenance": []
  },
  "kernelspec": {
   "display_name": "Python 3 (ipykernel)",
   "language": "python",
   "name": "python3"
  },
  "language_info": {
   "codemirror_mode": {
    "name": "ipython",
    "version": 3
   },
   "file_extension": ".py",
   "mimetype": "text/x-python",
   "name": "python",
   "nbconvert_exporter": "python",
   "pygments_lexer": "ipython3",
   "version": "3.9.12"
  }
 },
 "nbformat": 4,
 "nbformat_minor": 1
}
